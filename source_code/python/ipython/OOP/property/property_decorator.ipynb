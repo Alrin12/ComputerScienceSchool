{
 "cells": [
  {
   "cell_type": "code",
   "execution_count": 5,
   "metadata": {
    "collapsed": false
   },
   "outputs": [
    {
     "name": "stdout",
     "output_type": "stream",
     "text": [
      "setter\n",
      "getter\n",
      "0\n",
      "setter\n",
      "getter\n",
      "5000\n"
     ]
    }
   ],
   "source": [
    "class Person:\n",
    "    def __init__(self, money):\n",
    "        self.money = money\n",
    "    @property\n",
    "    def money(self):\n",
    "        print(\"getter\")\n",
    "        return self.__money\n",
    "    @money.setter\n",
    "    def money(self, money):\n",
    "        print(\"setter\")\n",
    "        if money < 0:\n",
    "            money = 0\n",
    "        elif money > 5000:\n",
    "            money = 5000\n",
    "            \n",
    "        self.__money = money\n",
    "\n",
    "p1 = Person(-3000)\n",
    "print(p1.money)\n",
    "p1.money = 7000\n",
    "print(p1.money)"
   ]
  },
  {
   "cell_type": "code",
   "execution_count": null,
   "metadata": {
    "collapsed": true
   },
   "outputs": [],
   "source": []
  }
 ],
 "metadata": {
  "kernelspec": {
   "display_name": "Python 3",
   "language": "python",
   "name": "python3"
  },
  "language_info": {
   "codemirror_mode": {
    "name": "ipython",
    "version": 3
   },
   "file_extension": ".py",
   "mimetype": "text/x-python",
   "name": "python",
   "nbconvert_exporter": "python",
   "pygments_lexer": "ipython3",
   "version": "3.6.0"
  }
 },
 "nbformat": 4,
 "nbformat_minor": 2
}
