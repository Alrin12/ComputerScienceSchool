{
 "cells": [
  {
   "cell_type": "code",
   "execution_count": 10,
   "metadata": {
    "collapsed": false
   },
   "outputs": [
    {
     "name": "stdout",
     "output_type": "stream",
     "text": [
      "1 2 3 4\n",
      "[<class '__main__.Derived'>, <class '__main__.Derived2'>]\n"
     ]
    }
   ],
   "source": [
    "class Base:\n",
    "    def __init__(self,a, b):\n",
    "        self.a = a\n",
    "        self.b = b\n",
    "        \n",
    "class Derived(Base):\n",
    "    def __init__(self, a, b, c, d):\n",
    "        super(Derived, self).__init__(a, b)\n",
    "        self.c = c\n",
    "        self.d = d\n",
    "        \n",
    "class Derived2(Base):\n",
    "    pass\n",
    "        \n",
    "d = Derived(1, 2, 3, 4)\n",
    "print(d.a, d.b, d.c, d.d)\n",
    "print(Base.__subclasses__())"
   ]
  },
  {
   "cell_type": "code",
   "execution_count": 9,
   "metadata": {
    "collapsed": true
   },
   "outputs": [],
   "source": [
    "super??"
   ]
  },
  {
   "cell_type": "code",
   "execution_count": null,
   "metadata": {
    "collapsed": true
   },
   "outputs": [],
   "source": []
  }
 ],
 "metadata": {
  "kernelspec": {
   "display_name": "Python 3",
   "language": "python",
   "name": "python3"
  },
  "language_info": {
   "codemirror_mode": {
    "name": "ipython",
    "version": 3
   },
   "file_extension": ".py",
   "mimetype": "text/x-python",
   "name": "python",
   "nbconvert_exporter": "python",
   "pygments_lexer": "ipython3",
   "version": "3.6.0"
  }
 },
 "nbformat": 4,
 "nbformat_minor": 2
}
