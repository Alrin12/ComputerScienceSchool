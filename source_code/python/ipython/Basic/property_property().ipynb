{
 "cells": [
  {
   "cell_type": "code",
   "execution_count": 2,
   "metadata": {
    "collapsed": false,
    "deletable": true,
    "editable": true
   },
   "outputs": [
    {
     "name": "stdout",
     "output_type": "stream",
     "text": [
      "set_mooney\n",
      "get_money\n",
      "set_mooney\n",
      "get_money\n",
      "5000\n"
     ]
    }
   ],
   "source": [
    "class Person:\n",
    "    def __init__(self, money):\n",
    "        self.money = money\n",
    "        \n",
    "    def get_money(self):\n",
    "        print(\"get_money\")\n",
    "        return self.__money\n",
    "    def set_money(self, money):\n",
    "        print(\"set_mooney\")\n",
    "        if money < 0 :\n",
    "            money = 0\n",
    "        elif money > 5000:\n",
    "            money = 5000\n",
    "        \n",
    "        self.__money = money\n",
    "    \n",
    "    money = property(get_money, set_money)\n",
    "\n",
    "p1 = Person(6000)\n",
    "money = p1.money \n",
    "p1.money = 10000\n",
    "print(p1.money)\n",
    "    "
   ]
  },
  {
   "cell_type": "code",
   "execution_count": null,
   "metadata": {
    "collapsed": true,
    "deletable": true,
    "editable": true
   },
   "outputs": [],
   "source": []
  }
 ],
 "metadata": {
  "kernelspec": {
   "display_name": "Python 3",
   "language": "python",
   "name": "python3"
  },
  "language_info": {
   "codemirror_mode": {
    "name": "ipython",
    "version": 3
   },
   "file_extension": ".py",
   "mimetype": "text/x-python",
   "name": "python",
   "nbconvert_exporter": "python",
   "pygments_lexer": "ipython3",
   "version": "3.6.0"
  }
 },
 "nbformat": 4,
 "nbformat_minor": 2
}
