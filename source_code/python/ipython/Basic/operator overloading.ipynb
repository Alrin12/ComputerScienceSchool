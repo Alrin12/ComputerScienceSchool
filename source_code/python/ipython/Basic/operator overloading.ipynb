{
 "cells": [
  {
   "cell_type": "code",
   "execution_count": 29,
   "metadata": {
    "collapsed": false
   },
   "outputs": [
    {
     "name": "stdout",
     "output_type": "stream",
     "text": [
      "(3, 3)\n",
      "(1, 1)\n",
      "(1, 1)\n"
     ]
    }
   ],
   "source": [
    "class Point:\n",
    "    def __init__(self, x, y):\n",
    "        self.x = x\n",
    "        self.y = y\n",
    "        \n",
    "    def __add__(self, n):\n",
    "        return Point(self.x + n, self.y + n)\n",
    "    \n",
    "    def __radd__(self, n):\n",
    "        return Point(self.x + n, self.y + n)\n",
    "    \n",
    "    def __sub__(self, n):\n",
    "        return Point(self.x -n, self.y - n)\n",
    "    \n",
    "    def __rsub__(self, n):\n",
    "        return Point(n - self.x, n - self.y)\n",
    "    \n",
    "    def __mul__(self, n):\n",
    "        return Point(self.x * n, self.y *n)\n",
    "    \n",
    "    def __truediv__(self, n):\n",
    "        return Point(self.x/n, self.y/n)\n",
    "    \n",
    "    def __rtruediv__(self, n):\n",
    "        return Point(n/self.x, n/self.y )\n",
    "    \n",
    "    def __floordiv__(self, n):\n",
    "        return Point(self.x//n, self.y//n)\n",
    "    \n",
    "    def __rfloordiv__(self, n):\n",
    "        return Point(n//self.x, n//self.y)\n",
    "    \n",
    "    def __mod__(self, n):\n",
    "        return Point(self.x % n, self.y % n)\n",
    "    \n",
    "    def __rmod__(self, n):\n",
    "        return Point(n % self.x, n % self.y)\n",
    "    \n",
    "    def __str__(self):\n",
    "        return \"({x}, {y})\".format(x = self.x, y = self.y)\n",
    "    \n",
    "p1 = Point(3, 3)\n",
    "print(p1)\n",
    "\n",
    "p2 = 10//p1\n",
    "p3 = p1%2\n",
    "print(p3)\n",
    "\n",
    "p4 = 13%p1\n",
    "print(p4)"
   ]
  },
  {
   "cell_type": "code",
   "execution_count": null,
   "metadata": {
    "collapsed": true
   },
   "outputs": [],
   "source": []
  }
 ],
 "metadata": {
  "kernelspec": {
   "display_name": "Python 3",
   "language": "python",
   "name": "python3"
  },
  "language_info": {
   "codemirror_mode": {
    "name": "ipython",
    "version": 3
   },
   "file_extension": ".py",
   "mimetype": "text/x-python",
   "name": "python",
   "nbconvert_exporter": "python",
   "pygments_lexer": "ipython3",
   "version": "3.6.0"
  }
 },
 "nbformat": 4,
 "nbformat_minor": 2
}
