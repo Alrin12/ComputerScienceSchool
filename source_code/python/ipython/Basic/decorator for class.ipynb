{
 "cells": [
  {
   "cell_type": "code",
   "execution_count": 8,
   "metadata": {
    "collapsed": false
   },
   "outputs": [
    {
     "name": "stdout",
     "output_type": "stream",
     "text": [
      "elapsed time : 3.000152826309204\n",
      "3\n"
     ]
    }
   ],
   "source": [
    "import time\n",
    "from functools import wraps\n",
    "\n",
    "def timer(func):\n",
    "    @wraps(func)\n",
    "    def inner(self, *args, **kwargs):\n",
    "        t1 = time.time()\n",
    "        result = func(self, *args, **kwargs)\n",
    "        elapsed_time = time.time() - t1\n",
    "        print(\"elapsed time : {e}\".format(e = elapsed_time))\n",
    "        return result\n",
    "    return inner\n",
    "\n",
    "class Base:\n",
    "    @timer\n",
    "    def add(self, a, b):\n",
    "        time.sleep(3)\n",
    "        return a + b\n",
    "    \n",
    "    \n",
    "b = Base()\n",
    "c = b.add(1, 2)\n",
    "print(c)"
   ]
  },
  {
   "cell_type": "code",
   "execution_count": null,
   "metadata": {
    "collapsed": true
   },
   "outputs": [],
   "source": []
  }
 ],
 "metadata": {
  "kernelspec": {
   "display_name": "Python 3",
   "language": "python",
   "name": "python3"
  },
  "language_info": {
   "codemirror_mode": {
    "name": "ipython",
    "version": 3
   },
   "file_extension": ".py",
   "mimetype": "text/x-python",
   "name": "python",
   "nbconvert_exporter": "python",
   "pygments_lexer": "ipython3",
   "version": "3.6.0"
  }
 },
 "nbformat": 4,
 "nbformat_minor": 2
}
