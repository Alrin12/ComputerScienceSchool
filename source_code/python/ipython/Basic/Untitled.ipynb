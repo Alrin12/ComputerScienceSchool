{
 "cells": [
  {
   "cell_type": "code",
   "execution_count": 6,
   "metadata": {
    "collapsed": false
   },
   "outputs": [
    {
     "name": "stdout",
     "output_type": "stream",
     "text": [
      "ab_func is overwritten\n"
     ]
    }
   ],
   "source": [
    "from abc import *\n",
    "class Base(metaclass = ABCMeta):\n",
    "    @abstractmethod\n",
    "    def ab_func(self):\n",
    "        pass\n",
    "    \n",
    "class Derived(Base):\n",
    "    def ab_func(self):\n",
    "        print(\"ab_func is overwritten\")\n",
    "        \n",
    "#b = Base()\n",
    "d = Derived()\n",
    "d.ab_func()"
   ]
  },
  {
   "cell_type": "code",
   "execution_count": null,
   "metadata": {
    "collapsed": true
   },
   "outputs": [],
   "source": []
  }
 ],
 "metadata": {
  "kernelspec": {
   "display_name": "Python 3",
   "language": "python",
   "name": "python3"
  },
  "language_info": {
   "codemirror_mode": {
    "name": "ipython",
    "version": 3
   },
   "file_extension": ".py",
   "mimetype": "text/x-python",
   "name": "python",
   "nbconvert_exporter": "python",
   "pygments_lexer": "ipython3",
   "version": "3.6.0"
  }
 },
 "nbformat": 4,
 "nbformat_minor": 2
}
