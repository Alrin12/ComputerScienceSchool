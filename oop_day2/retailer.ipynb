{
 "cells": [
  {
   "cell_type": "code",
   "execution_count": 6,
   "metadata": {
    "collapsed": false,
    "deletable": true,
    "editable": true
   },
   "outputs": [],
   "source": [
    "from person import Person\n",
    "\n",
    "class Retailer(Person):\n",
    "    #제품 가격 : 클래스 멤버\n",
    "    price = 1000\n",
    "    \n",
    "    def __init__(self, name, age, money, product):\n",
    "        super().__init__(name, age, money)\n",
    "        self.product = product\n",
    "        \n",
    "    def sell(self, other, how_many):\n",
    "            if self.product > how_many:\n",
    "                self.product -= how_many\n",
    "                #other.product += how_many\n",
    "                \n",
    "                total = self.price * how_many\n",
    "                other.give_money(self, total)\n",
    "                \n",
    "            else:\n",
    "                print(\"제품 물량이 부족합니다\")\n",
    "                \n",
    "    def __str__(self):\n",
    "        return super().__str__() + '''\n",
    "I am a retailer.\n",
    "I have {} products\n",
    "        '''.format(self.product)\n",
    "                "
   ]
  },
  {
   "cell_type": "code",
   "execution_count": 7,
   "metadata": {
    "collapsed": true,
    "deletable": true,
    "editable": true
   },
   "outputs": [],
   "source": [
    "r1 = Retailer(\"yang\", 18, 5000, 20)\n",
    "p1 = Person(\"kim\", 13, 6000)"
   ]
  },
  {
   "cell_type": "code",
   "execution_count": 8,
   "metadata": {
    "collapsed": false
   },
   "outputs": [
    {
     "name": "stdout",
     "output_type": "stream",
     "text": [
      "\n",
      "My name is yang\n",
      "I am 18 years old\n",
      "I have 5000 won\n",
      "I am a retailer.\n",
      "I have 20 products\n",
      "        \n"
     ]
    }
   ],
   "source": [
    "print(r1)"
   ]
  },
  {
   "cell_type": "code",
   "execution_count": 9,
   "metadata": {
    "collapsed": true
   },
   "outputs": [],
   "source": [
    "r1.sell(p1, 3)"
   ]
  },
  {
   "cell_type": "code",
   "execution_count": 10,
   "metadata": {
    "collapsed": false
   },
   "outputs": [
    {
     "name": "stdout",
     "output_type": "stream",
     "text": [
      "\n",
      "My name is yang\n",
      "I am 18 years old\n",
      "I have 8000 won\n",
      "I am a retailer.\n",
      "I have 17 products\n",
      "        \n",
      "\n",
      "My name is kim\n",
      "I am 13 years old\n",
      "I have 3000 won\n"
     ]
    }
   ],
   "source": [
    "print(r1)\n",
    "print(p1)"
   ]
  },
  {
   "cell_type": "code",
   "execution_count": null,
   "metadata": {
    "collapsed": true
   },
   "outputs": [],
   "source": []
  }
 ],
 "metadata": {
  "kernelspec": {
   "display_name": "Python 3",
   "language": "python",
   "name": "python3"
  },
  "language_info": {
   "codemirror_mode": {
    "name": "ipython",
    "version": 3
   },
   "file_extension": ".py",
   "mimetype": "text/x-python",
   "name": "python",
   "nbconvert_exporter": "python",
   "pygments_lexer": "ipython3",
   "version": "3.6.0"
  }
 },
 "nbformat": 4,
 "nbformat_minor": 2
}
